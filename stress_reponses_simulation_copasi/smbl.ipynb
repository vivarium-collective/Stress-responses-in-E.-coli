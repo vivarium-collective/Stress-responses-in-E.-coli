{
 "cells": [
  {
   "metadata": {
    "ExecuteTime": {
     "end_time": "2025-09-23T15:43:40.951443Z",
     "start_time": "2025-09-23T15:43:35.963820Z"
    }
   },
   "cell_type": "code",
   "source": [
    "import sys\n",
    "from basico import *\n",
    "import numpy as np\n",
    "import matplotlib.pyplot as plt\n",
    "\n",
    "load_biomodel(\"MODEL1503050000\")\n",
    "\n"
   ],
   "id": "d22ed403c0e8c00d",
   "outputs": [
    {
     "data": {
      "text/plain": [
       "<CDataModel \"Root\">"
      ]
     },
     "execution_count": 1,
     "metadata": {},
     "output_type": "execute_result"
    }
   ],
   "execution_count": 1
  },
  {
   "metadata": {},
   "cell_type": "code",
   "outputs": [],
   "execution_count": null,
   "source": "",
   "id": "479c79632c971885"
  }
 ],
 "metadata": {
  "kernelspec": {
   "name": "python3",
   "language": "python",
   "display_name": "Python 3 (ipykernel)"
  }
 },
 "nbformat": 4,
 "nbformat_minor": 5
}
